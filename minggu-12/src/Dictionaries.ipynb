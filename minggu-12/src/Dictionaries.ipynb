{
 "cells": [
  {
   "cell_type": "code",
   "execution_count": null,
   "id": "2a9df6b8",
   "metadata": {},
   "outputs": [],
   "source": [
    "tel = {'jack': 4098, 'sape': 4139}\n",
    "tel['guido'] = 4127\n",
    "tel\n",
    "\n",
    "tel['jack']\n",
    "\n",
    "del tel['sape']\n",
    "tel['irv'] = 4127\n",
    "tel\n",
    "\n",
    "list(tel)\n",
    "\n",
    "sorted(tel)\n",
    "\n",
    "'guido' in tel\n",
    "\n",
    "'jack' not in tel\n",
    "\n",
    "#Konstruktor dict()membangun kamus langsung dari urutan pasangan nilai kunci:\n",
    "dict([('sape', 4139), ('guido', 4127), ('jack', 4098)])\n",
    "\n",
    "#Selain itu, pemahaman dict dapat digunakan untuk membuat kamus dari kunci arbitrer dan ekspresi nilai:\n",
    "{x: x**2 for x in (2, 4, 6)}\n",
    "\n",
    "#Jika kuncinya adalah string sederhana, terkadang lebih mudah untuk menentukan pasangan menggunakan argumen kata kunci:\n",
    "dict(sape=4139, guido=4127, jack=4098)"
   ]
  }
 ],
 "metadata": {
  "kernelspec": {
   "display_name": "Python 3 (ipykernel)",
   "language": "python",
   "name": "python3"
  },
  "language_info": {
   "codemirror_mode": {
    "name": "ipython",
    "version": 3
   },
   "file_extension": ".py",
   "mimetype": "text/x-python",
   "name": "python",
   "nbconvert_exporter": "python",
   "pygments_lexer": "ipython3",
   "version": "3.9.5"
  }
 },
 "nbformat": 4,
 "nbformat_minor": 5
}
