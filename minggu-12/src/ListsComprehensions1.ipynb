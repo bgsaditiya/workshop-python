{
 "cells": [
  {
   "cell_type": "code",
   "execution_count": null,
   "id": "b220733e",
   "metadata": {},
   "outputs": [],
   "source": [
    "vec = [-4, -2, 0, 2, 4]\n",
    "# create a new list with the values doubled\n",
    "[x*2 for x in vec]\n",
    "\n",
    "# filter the list to exclude negative numbers\n",
    "[x for x in vec if x >= 0]\n",
    "\n",
    "# apply a function to all the elements\n",
    "[abs(x) for x in vec]\n",
    "\n",
    "# call a method on each element\n",
    "freshfruit = ['  banana', '  loganberry ', 'passion fruit  ']\n",
    "[weapon.strip() for weapon in freshfruit]\n",
    "\n",
    "# create a list of 2-tuples like (number, square)\n",
    "[(x, x**2) for x in range(6)]\n",
    "\n",
    "# the tuple must be parenthesized, otherwise an error is raised\n",
    "#[x, x**2 for x in range(6)]\n",
    "\n",
    "\n",
    "from math import pi\n",
    "[str(round(pi, i)) for i in range(1, 6)]\n",
    "\n",
    "# flatten a list using a listcomp with two 'for'\n",
    "vec = [[1,2,3], [4,5,6], [7,8,9]]\n",
    "[num for elem in vec for num in elem]"
   ]
  }
 ],
 "metadata": {
  "kernelspec": {
   "display_name": "Python 3 (ipykernel)",
   "language": "python",
   "name": "python3"
  },
  "language_info": {
   "codemirror_mode": {
    "name": "ipython",
    "version": 3
   },
   "file_extension": ".py",
   "mimetype": "text/x-python",
   "name": "python",
   "nbconvert_exporter": "python",
   "pygments_lexer": "ipython3",
   "version": "3.9.5"
  }
 },
 "nbformat": 4,
 "nbformat_minor": 5
}
